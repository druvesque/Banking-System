{
 "cells": [
  {
   "cell_type": "code",
   "execution_count": 65,
   "id": "2b5239ce-b2c5-421c-b91c-219ebc652fc5",
   "metadata": {},
   "outputs": [],
   "source": [
    "class BalanceException(Exception):\n",
    "    pass"
   ]
  },
  {
   "cell_type": "code",
   "execution_count": 66,
   "id": "d16c793c-66c5-42e8-a96d-396c859f98b9",
   "metadata": {},
   "outputs": [],
   "source": [
    "#Bank Account\n",
    "class BankAccount:\n",
    "    def __init__(self, initialAmount, acctName):\n",
    "        self.balance = initialAmount\n",
    "        self.name = acctName\n",
    "        print(f\"\\nAccount '{self.name}' created.\\nBalance = ${self.balance:.2f}\")\n",
    "    def getBalance(self):\n",
    "        print(f\"\\nAccount: '{self.name}'\\nBalance = ${self.balance:.2f}\")\n",
    "    def deposit(self, amount):\n",
    "        self.balance = self.balance + amount\n",
    "        print(\"\\nDeposit Complete\")\n",
    "        self.getBalance()\n",
    "    def viableTransaction(self, amount):\n",
    "        if self.balance >= amount:\n",
    "            return\n",
    "        else:\n",
    "            raise BalanceException(f\"\\nSorry, account '{self.name}' only has a balance of ${self.balance:.2f}\")\n",
    "    def withdraw(self, amount):\n",
    "        try:\n",
    "            self.viableTransaction(amount)\n",
    "            self.balance = self.balance - amount\n",
    "            print(\"\\nWithdraw complete\")\n",
    "            self.getBalance()\n",
    "        except BalanceException as error:\n",
    "            print(f\"\\nWithdraw Interupted: {error}\")\n",
    "    def transfer(self,amount, account):\n",
    "        try:\n",
    "            print(\"\\n**********\\n\\nBeginning Transaction\")\n",
    "            self.viableTransaction(amount)\n",
    "            self.withdraw(amount)\n",
    "            account.deposit(amount)\n",
    "            print(\"\\nTransfer Complete! \\n\\n**********\")\n",
    "        except BalanceException as error:\n",
    "            print(f\"\\nTransfer Interrupted \\n{error}\")\n",
    "\n",
    "class InterestRewardsAcct(BankAccount):\n",
    "    def deposit(self, amount):\n",
    "        self.balance = self.balance + (amount * 1.05)\n",
    "        print(\"\\nDeposit Complete\")\n",
    "        self.getBalance()\n",
    "\n",
    "class SavingsAccount(InterestRewardsAcct):\n",
    "    def __init__(self, initialAmount, acctName):\n",
    "        super().__init__(initialAmount, acctName)\n",
    "        self.fee = 5\n",
    "    def withdraw(self, amount):\n",
    "        try:\n",
    "            self.viableTransaction(amount + self.fee)\n",
    "            self.balance = self.balance - (amount + self.fee)\n",
    "            print(\"\\nWithdraw Complete\")\n",
    "            self.getBalance()\n",
    "        except BalanceException as error:\n",
    "            print(f\"\\nWithdraw Interrupted: {error}\")"
   ]
  },
  {
   "cell_type": "code",
   "execution_count": 67,
   "id": "db64e9e2-8a71-435c-9876-5004426ca4a9",
   "metadata": {},
   "outputs": [
    {
     "name": "stdout",
     "output_type": "stream",
     "text": [
      "\n",
      "Account 'Rahul' created.\n",
      "Balance = $1000.00\n",
      "\n",
      "Account 'Sara' created.\n",
      "Balance = $2000.00\n"
     ]
    }
   ],
   "source": [
    "Rahul = BankAccount(1000, \"Rahul\")\n",
    "Sara = BankAccount(2000, \"Sara\")"
   ]
  },
  {
   "cell_type": "code",
   "execution_count": 68,
   "id": "32a953d2-1392-4ecf-bbb5-c2ae93e9a7be",
   "metadata": {},
   "outputs": [
    {
     "name": "stdout",
     "output_type": "stream",
     "text": [
      "\n",
      "Account: 'Rahul'\n",
      "Balance = $1000.00\n",
      "\n",
      "Account: 'Sara'\n",
      "Balance = $2000.00\n"
     ]
    }
   ],
   "source": [
    "Rahul.getBalance()\n",
    "Sara.getBalance()"
   ]
  },
  {
   "cell_type": "code",
   "execution_count": 69,
   "id": "de7512cd-2cde-457f-82a6-65cf2a74b492",
   "metadata": {},
   "outputs": [
    {
     "name": "stdout",
     "output_type": "stream",
     "text": [
      "\n",
      "Deposit Complete\n",
      "\n",
      "Account: 'Rahul'\n",
      "Balance = $4000.00\n",
      "\n",
      "Deposit Complete\n",
      "\n",
      "Account: 'Sara'\n",
      "Balance = $6000.00\n"
     ]
    }
   ],
   "source": [
    "Rahul.deposit(3000)\n",
    "Sara.deposit(4000)"
   ]
  },
  {
   "cell_type": "code",
   "execution_count": 70,
   "id": "5785de6b-d21e-4290-acea-39c1958f74aa",
   "metadata": {},
   "outputs": [
    {
     "name": "stdout",
     "output_type": "stream",
     "text": [
      "\n",
      "Withdraw complete\n",
      "\n",
      "Account: 'Rahul'\n",
      "Balance = $2000.00\n"
     ]
    }
   ],
   "source": [
    "Rahul.withdraw(2000)"
   ]
  },
  {
   "cell_type": "code",
   "execution_count": 71,
   "id": "3a5374e1-b9fd-4fd7-94be-d75420f4e3be",
   "metadata": {},
   "outputs": [
    {
     "name": "stdout",
     "output_type": "stream",
     "text": [
      "\n",
      "Withdraw Interupted: \n",
      "Sorry, account 'Sara' only has a balance of $6000.00\n"
     ]
    }
   ],
   "source": [
    "Sara.withdraw(8000)"
   ]
  },
  {
   "cell_type": "code",
   "execution_count": 72,
   "id": "f9c904fd-13e1-4187-9936-4d13a399bca4",
   "metadata": {},
   "outputs": [
    {
     "name": "stdout",
     "output_type": "stream",
     "text": [
      "\n",
      "**********\n",
      "\n",
      "Beginning Transaction\n",
      "\n",
      "Transfer Interrupted \n",
      "\n",
      "Sorry, account 'Sara' only has a balance of $6000.00\n"
     ]
    }
   ],
   "source": [
    "Sara.transfer(10000, Rahul)"
   ]
  },
  {
   "cell_type": "code",
   "execution_count": 73,
   "id": "424ec7c7-4d96-4146-84b7-12ff447116a5",
   "metadata": {},
   "outputs": [
    {
     "name": "stdout",
     "output_type": "stream",
     "text": [
      "\n",
      "**********\n",
      "\n",
      "Beginning Transaction\n",
      "\n",
      "Withdraw complete\n",
      "\n",
      "Account: 'Sara'\n",
      "Balance = $3000.00\n",
      "\n",
      "Deposit Complete\n",
      "\n",
      "Account: 'Rahul'\n",
      "Balance = $5000.00\n",
      "\n",
      "Transfer Complete! \n",
      "\n",
      "**********\n"
     ]
    }
   ],
   "source": [
    "Sara.transfer(3000, Rahul)"
   ]
  },
  {
   "cell_type": "code",
   "execution_count": 74,
   "id": "a9788919-a642-450c-804d-cea8046ceb57",
   "metadata": {},
   "outputs": [
    {
     "name": "stdout",
     "output_type": "stream",
     "text": [
      "\n",
      "Account 'Jim' created.\n",
      "Balance = $1000.00\n"
     ]
    }
   ],
   "source": [
    "Jim = InterestRewardsAcct(1000, \"Jim\")"
   ]
  },
  {
   "cell_type": "code",
   "execution_count": 75,
   "id": "da0676b6-9691-48be-ad63-b920c73a5a66",
   "metadata": {},
   "outputs": [
    {
     "name": "stdout",
     "output_type": "stream",
     "text": [
      "\n",
      "Account: 'Jim'\n",
      "Balance = $1000.00\n"
     ]
    }
   ],
   "source": [
    "Jim.getBalance()"
   ]
  },
  {
   "cell_type": "code",
   "execution_count": 76,
   "id": "dea2e609-2db3-47c1-a55b-8ba5a0369f42",
   "metadata": {},
   "outputs": [
    {
     "name": "stdout",
     "output_type": "stream",
     "text": [
      "\n",
      "Deposit Complete\n",
      "\n",
      "Account: 'Jim'\n",
      "Balance = $1105.00\n"
     ]
    }
   ],
   "source": [
    "Jim.deposit(100)"
   ]
  },
  {
   "cell_type": "code",
   "execution_count": 77,
   "id": "b05f9518-ed8e-4dae-aa49-ca1cd0d43799",
   "metadata": {},
   "outputs": [
    {
     "name": "stdout",
     "output_type": "stream",
     "text": [
      "\n",
      "**********\n",
      "\n",
      "Beginning Transaction\n",
      "\n",
      "Withdraw complete\n",
      "\n",
      "Account: 'Jim'\n",
      "Balance = $1005.00\n",
      "\n",
      "Deposit Complete\n",
      "\n",
      "Account: 'Sara'\n",
      "Balance = $3100.00\n",
      "\n",
      "Transfer Complete! \n",
      "\n",
      "**********\n"
     ]
    }
   ],
   "source": [
    "Jim.transfer(100, Sara)"
   ]
  },
  {
   "cell_type": "code",
   "execution_count": 79,
   "id": "34a7bf03-5d50-48f9-bf1a-f0e1ace09bb5",
   "metadata": {},
   "outputs": [
    {
     "name": "stdout",
     "output_type": "stream",
     "text": [
      "\n",
      "Account 'Blaze' created.\n",
      "Balance = $1000.00\n"
     ]
    }
   ],
   "source": [
    "Blaze = SavingsAccount(1000, \"Blaze\")"
   ]
  },
  {
   "cell_type": "code",
   "execution_count": 80,
   "id": "3f220643-e278-4313-9292-1564b5382530",
   "metadata": {},
   "outputs": [
    {
     "name": "stdout",
     "output_type": "stream",
     "text": [
      "\n",
      "Account: 'Blaze'\n",
      "Balance = $1000.00\n"
     ]
    }
   ],
   "source": [
    "Blaze.getBalance()"
   ]
  },
  {
   "cell_type": "code",
   "execution_count": 81,
   "id": "3ea6577a-b7d9-486e-8e72-84afd5f9cdc5",
   "metadata": {},
   "outputs": [
    {
     "name": "stdout",
     "output_type": "stream",
     "text": [
      "\n",
      "Deposit Complete\n",
      "\n",
      "Account: 'Blaze'\n",
      "Balance = $1105.00\n"
     ]
    }
   ],
   "source": [
    "Blaze.deposit(100)"
   ]
  },
  {
   "cell_type": "code",
   "execution_count": 82,
   "id": "7167f145-1564-42b0-bafa-d9079c35831c",
   "metadata": {},
   "outputs": [
    {
     "name": "stdout",
     "output_type": "stream",
     "text": [
      "\n",
      "**********\n",
      "\n",
      "Beginning Transaction\n",
      "\n",
      "Transfer Interrupted \n",
      "\n",
      "Sorry, account 'Blaze' only has a balance of $1105.00\n"
     ]
    }
   ],
   "source": [
    "Blaze.transfer(10000, Sara)"
   ]
  },
  {
   "cell_type": "code",
   "execution_count": null,
   "id": "0fca4f2f-f7cf-4de6-925d-bd49d2aa7c54",
   "metadata": {},
   "outputs": [],
   "source": [
    "Blaze"
   ]
  }
 ],
 "metadata": {
  "kernelspec": {
   "display_name": "Python 3 (ipykernel)",
   "language": "python",
   "name": "python3"
  },
  "language_info": {
   "codemirror_mode": {
    "name": "ipython",
    "version": 3
   },
   "file_extension": ".py",
   "mimetype": "text/x-python",
   "name": "python",
   "nbconvert_exporter": "python",
   "pygments_lexer": "ipython3",
   "version": "3.11.7"
  }
 },
 "nbformat": 4,
 "nbformat_minor": 5
}
